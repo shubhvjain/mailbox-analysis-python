{
 "cells": [
  {
   "cell_type": "markdown",
   "metadata": {},
   "source": [
    "a mail box file (with extension `.mbox`) contains emails stored as plain text. \n",
    "\n",
    "**Reading mbox file in python**"
   ]
  },
  {
   "cell_type": "code",
   "execution_count": 10,
   "metadata": {},
   "outputs": [],
   "source": [
    "%matplotlib inline\n",
    "import mailbox\n",
    "from matplotlib import pyplot as plt\n",
    "import os"
   ]
  },
  {
   "cell_type": "code",
   "execution_count": 7,
   "metadata": {
    "scrolled": true
   },
   "outputs": [],
   "source": [
    "mbox = mailbox.mbox('email1.mbox')\n",
    "#for message in mbox:\n",
    "    #print(message[\"date\"])\n",
    "    #print(message.items())\n",
    "    # print(message['from']+\" -->  \"+message[\"to\"])"
   ]
  },
  {
   "cell_type": "markdown",
   "metadata": {},
   "source": [
    "### Analzying the file\n"
   ]
  },
  {
   "cell_type": "code",
   "execution_count": 8,
   "metadata": {},
   "outputs": [],
   "source": [
    "def extractEmail(str):\n",
    "    parts = str.split(\"<\")\n",
    "    email = str\n",
    "    if(len(parts)==2):\n",
    "        email = parts[1][0:len(parts[1])-1]\n",
    "    return email\n",
    "\n",
    "def analyze(mboxfile,options={}) :\n",
    "    mbox = mailbox.mbox(mboxfile)\n",
    "    myEmail = options[\"myEmail\"]\n",
    "    vals = {}\n",
    "    vals[\"total\"] = {\"sent\":0,\"recieved\":0,\"sum\":0}\n",
    "    vals[\"sendTo\"] = {}\n",
    "    vals[\"recievedFrom\"] = {}\n",
    "    for message in mbox:\n",
    "        fromEmail = extractEmail(message[\"from\"])  \n",
    "        if fromEmail==myEmail:\n",
    "            # user has sent the email \n",
    "            vals[\"total\"][\"sent\"]= vals[\"total\"][\"sent\"]+1\n",
    "\n",
    "            if fromEmail not in vals[\"sendTo\"] :\n",
    "                vals[\"sendTo\"][message[\"to\"]] = []\n",
    "            info = message[\"date\"]  \n",
    "\n",
    "            vals[\"sendTo\"][message[\"to\"]].append(info)\n",
    "        else:\n",
    "            # user has recieved the email\n",
    "            vals[\"total\"][\"recieved\"]= vals[\"total\"][\"recieved\"]+1\n",
    "\n",
    "            if fromEmail not in vals[\"recievedFrom\"] :\n",
    "                vals[\"recievedFrom\"][fromEmail] = []\n",
    "            info = message[\"date\"]  \n",
    "\n",
    "            vals[\"recievedFrom\"][fromEmail].append(info)\n",
    "    vals[\"total\"][\"sum\"] = vals[\"total\"][\"sent\"]+vals[\"total\"][\"recieved\"]\n",
    "    return vals\n",
    "    "
   ]
  },
  {
   "cell_type": "code",
   "execution_count": 9,
   "metadata": {
    "scrolled": false
   },
   "outputs": [],
   "source": [
    "stats = analyze('email1.mbox',{\"myEmail\":os.getenv('MY_EMAIL')})\n",
    "print(stats)"
   ]
  },
  {
   "cell_type": "code",
   "execution_count": 63,
   "metadata": {},
   "outputs": [],
   "source": []
  },
  {
   "cell_type": "code",
   "execution_count": null,
   "metadata": {},
   "outputs": [],
   "source": []
  }
 ],
 "metadata": {
  "kernelspec": {
   "display_name": "Python 3",
   "language": "python",
   "name": "python3"
  },
  "language_info": {
   "codemirror_mode": {
    "name": "ipython",
    "version": 3
   },
   "file_extension": ".py",
   "mimetype": "text/x-python",
   "name": "python",
   "nbconvert_exporter": "python",
   "pygments_lexer": "ipython3",
   "version": "3.6.4"
  }
 },
 "nbformat": 4,
 "nbformat_minor": 2
}
