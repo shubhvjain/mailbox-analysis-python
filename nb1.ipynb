{
 "cells": [
  {
   "cell_type": "markdown",
   "metadata": {},
   "source": [
    "a mail box file (with extension `.mbox`) contains emails stored as plain text. \n",
    "\n",
    "**Reading mbox file in python**"
   ]
  },
  {
   "cell_type": "code",
   "execution_count": 1,
   "metadata": {},
   "outputs": [],
   "source": [
    "%matplotlib inline\n",
    "import mailbox\n",
    "from matplotlib import pyplot as plt\n",
    "import numpy as np\n",
    "import os"
   ]
  },
  {
   "cell_type": "code",
   "execution_count": 2,
   "metadata": {
    "scrolled": true
   },
   "outputs": [],
   "source": [
    "mbox = mailbox.mbox('email1.mbox')\n",
    "#for message in mbox:\n",
    "    #print(message[\"date\"])\n",
    "    #print(message.items())\n",
    "    # print(message['from']+\" -->  \"+message[\"to\"])"
   ]
  },
  {
   "cell_type": "markdown",
   "metadata": {},
   "source": [
    "### Analzying the file\n"
   ]
  },
  {
   "cell_type": "code",
   "execution_count": 24,
   "metadata": {},
   "outputs": [],
   "source": [
    "def extractEmail(str):\n",
    "    if str == None:\n",
    "        str = \"Unknown\"\n",
    "    parts = str.split(\"<\")\n",
    "    email = str\n",
    "    if(len(parts)==2):\n",
    "        email = parts[1][0:len(parts[1])-1]\n",
    "    return email\n",
    "\n",
    "def analyze(mboxfile,options={}) :\n",
    "    mbox = mailbox.mbox(mboxfile)\n",
    "    myEmail = options[\"myEmail\"]\n",
    "    vals = {}\n",
    "    vals[\"total\"] = {\"sent\":0,\"recieved\":0,\"sum\":0}\n",
    "    vals[\"sendTo\"] = {}\n",
    "    vals[\"recievedFrom\"] = {}\n",
    "    for message in mbox:\n",
    "        fromEmail = extractEmail(message[\"from\"])\n",
    "        toEmail= extractEmail(message[\"to\"])\n",
    "        if fromEmail==myEmail:\n",
    "            # user has sent the email \n",
    "            vals[\"total\"][\"sent\"]= vals[\"total\"][\"sent\"]+1\n",
    "            if toEmail not in vals[\"sendTo\"] :\n",
    "                vals[\"sendTo\"][toEmail] = []\n",
    "            info = message[\"date\"]  \n",
    "            vals[\"sendTo\"][toEmail].append(info)\n",
    "        else:\n",
    "            # user has recieved the email\n",
    "            vals[\"total\"][\"recieved\"]= vals[\"total\"][\"recieved\"]+1\n",
    "            if fromEmail not in vals[\"recievedFrom\"] :\n",
    "                vals[\"recievedFrom\"][fromEmail] = []\n",
    "            info = message[\"date\"]  \n",
    "            vals[\"recievedFrom\"][fromEmail].append(info)\n",
    "    vals[\"total\"][\"sum\"] = vals[\"total\"][\"sent\"]+vals[\"total\"][\"recieved\"]\n",
    "    return vals"
   ]
  },
  {
   "cell_type": "code",
   "execution_count": 4,
   "metadata": {},
   "outputs": [],
   "source": [
    "import data as userData "
   ]
  },
  {
   "cell_type": "code",
   "execution_count": 27,
   "metadata": {
    "scrolled": true
   },
   "outputs": [],
   "source": [
    "stats = analyze(userData.fileName,{\"myEmail\":userData.myEmail})\n",
    "# print(stats)"
   ]
  },
  {
   "cell_type": "markdown",
   "metadata": {},
   "source": [
    "### Basic stats"
   ]
  },
  {
   "cell_type": "code",
   "execution_count": 35,
   "metadata": {},
   "outputs": [
    {
     "name": "stdout",
     "output_type": "stream",
     "text": [
      "Total Mails :  3991\n",
      "   Mails sent :  68\n",
      "   Mails recieved :  3923\n",
      "Period : TODO\n",
      "Average emails recieved in a day : TODO\n"
     ]
    }
   ],
   "source": [
    "print(\"Total Mails : \", stats[\"total\"][\"sum\"])\n",
    "print(\"   Mails sent : \", stats[\"total\"][\"sent\"])\n",
    "print(\"   Mails recieved : \", stats[\"total\"][\"recieved\"])\n",
    "print(\"Period :\",\"TODO\")\n",
    "print(\"Average emails recieved in a day :\",\"TODO\")\n"
   ]
  },
  {
   "cell_type": "markdown",
   "metadata": {},
   "source": [
    "### Visualizing the data"
   ]
  },
  {
   "cell_type": "code",
   "execution_count": 26,
   "metadata": {},
   "outputs": [
    {
     "data": {
      "image/png": "[encoded data removed]",
      "text/plain": [
       "<matplotlib.figure.Figure at 0x10f2d0cf8>"
      ]
     },
     "metadata": {},
     "output_type": "display_data"
    }
   ],
   "source": [
    "labels = 'Sent', 'Recieved'\n",
    "sizes = [stats[\"total\"][\"sent\"], stats[\"total\"][\"recieved\"]]\n",
    "\n",
    "fig1, ax1 = plt.subplots()\n",
    "ax1.pie(sizes, labels=labels, autopct='%1.1f%%',\n",
    "        shadow=True, startangle=90)\n",
    "ax1.axis('equal')\n",
    "plt.show()"
   ]
  },
  {
   "cell_type": "code",
   "execution_count": null,
   "metadata": {},
   "outputs": [],
   "source": [
    "# TODO  : time line chart of emails recieved and sent"
   ]
  }
 ],
 "metadata": {
  "kernelspec": {
   "display_name": "Python 3",
   "language": "python",
   "name": "python3"
  },
  "language_info": {
   "codemirror_mode": {
    "name": "ipython",
    "version": 3
   },
   "file_extension": ".py",
   "mimetype": "text/x-python",
   "name": "python",
   "nbconvert_exporter": "python",
   "pygments_lexer": "ipython3",
   "version": "3.6.4"
  }
 },
 "nbformat": 4,
 "nbformat_minor": 2
}
