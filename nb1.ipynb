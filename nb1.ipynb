{
 "cells": [
  {
   "cell_type": "markdown",
   "metadata": {},
   "source": [
    "a mail box file (with extension `.mbox`) contains emails stored as plain text. \n",
    "\n",
    "**Reading mbox file in python**"
   ]
  },
  {
   "cell_type": "code",
   "execution_count": 10,
   "metadata": {},
   "outputs": [],
   "source": [
    "%matplotlib inline\n",
    "import mailbox\n",
    "from matplotlib import pyplot as plt\n",
    "import os"
   ]
  },
  {
   "cell_type": "code",
   "execution_count": 7,
   "metadata": {
    "scrolled": true
   },
   "outputs": [],
   "source": [
    "mbox = mailbox.mbox('email1.mbox')\n",
    "#for message in mbox:\n",
    "    #print(message[\"date\"])\n",
    "    #print(message.items())\n",
    "    # print(message['from']+\" -->  \"+message[\"to\"])"
   ]
  },
  {
   "cell_type": "markdown",
   "metadata": {},
   "source": [
    "### Analzying the file\n"
   ]
  },
  {
   "cell_type": "code",
   "execution_count": 8,
   "metadata": {},
   "outputs": [],
   "source": [
    "def extractEmail(str):\n",
    "    parts = str.split(\"<\")\n",
    "    email = str\n",
    "    if(len(parts)==2):\n",
    "        email = parts[1][0:len(parts[1])-1]\n",
    "    return email\n",
    "\n",
    "def analyze(mboxfile,options={}) :\n",
    "    mbox = mailbox.mbox(mboxfile)\n",
    "    myEmail = options[\"myEmail\"]\n",
    "    vals = {}\n",
    "    vals[\"total\"] = {\"sent\":0,\"recieved\":0,\"sum\":0}\n",
    "    vals[\"sendTo\"] = {}\n",
    "    vals[\"recievedFrom\"] = {}\n",
    "    for message in mbox:\n",
    "        fromEmail = extractEmail(message[\"from\"])  \n",
    "        if fromEmail==myEmail:\n",
    "            # user has sent the email \n",
    "            vals[\"total\"][\"sent\"]= vals[\"total\"][\"sent\"]+1\n",
    "\n",
    "            if fromEmail not in vals[\"sendTo\"] :\n",
    "                vals[\"sendTo\"][message[\"to\"]] = []\n",
    "            info = message[\"date\"]  \n",
    "\n",
    "            vals[\"sendTo\"][message[\"to\"]].append(info)\n",
    "        else:\n",
    "            # user has recieved the email\n",
    "            vals[\"total\"][\"recieved\"]= vals[\"total\"][\"recieved\"]+1\n",
    "\n",
    "            if fromEmail not in vals[\"recievedFrom\"] :\n",
    "                vals[\"recievedFrom\"][fromEmail] = []\n",
    "            info = message[\"date\"]  \n",
    "\n",
    "            vals[\"recievedFrom\"][fromEmail].append(info)\n",
    "    vals[\"total\"][\"sum\"] = vals[\"total\"][\"sent\"]+vals[\"total\"][\"recieved\"]\n",
    "    return vals\n",
    "    "
   ]
  },
  {
   "cell_type": "code",
   "execution_count": 11,
   "metadata": {
    "scrolled": false
   },
   "outputs": [
    {
     "name": "stdout",
     "output_type": "stream",
     "text": [
      "{'total': {'sent': 0, 'recieved': 49, 'sum': 49}, 'sendTo': {}, 'recievedFrom': {'no-reply@dropboxmail.com': ['Tue, 3 Nov 2020 16:12:10 +0000'], 'CloudPlatform-noreply@google.com': ['Mon, 21 Sep 2020 10:47:40 -0700', 'Thu, 01 Oct 2020 15:34:37 -0700', 'Fri, 20 Nov 2020 02:11:05 -0800', 'Thu, 03 Dec 2020 13:07:23 -0800', 'Wed, 04 Nov 2020 18:40:17 -0800', 'Thu, 01 Oct 2020 13:39:55 -0700', 'Fri, 02 Oct 2020 19:55:22 -0700', 'Mon, 21 Dec 2020 02:11:37 -0800', 'Sun, 04 Oct 2020 19:55:28 -0700', 'Wed, 11 Nov 2020 18:40:34 -0800', 'Sun, 04 Oct 2020 13:40:02 -0700', 'Sat, 03 Oct 2020 13:39:57 -0700', 'Wed, 07 Oct 2020 13:41:09 -0700', 'Thu, 10 Dec 2020 09:52:37 -0800', 'Mon, 05 Oct 2020 13:40:08 -0700', 'Mon, 26 Oct 2020 15:18:26 -0700', 'Wed, 18 Nov 2020 18:34:44 -0800', 'Sun, 13 Dec 2020 02:09:32 -0800', 'Fri, 09 Oct 2020 13:41:12 -0700', 'Mon, 21 Dec 2020 02:24:11 -0800', 'Wed, 30 Sep 2020 19:55:15 -0700'], 'no-reply@dropbox.com': ['Tue, 3 Nov 2020 16:13:55 +0000', 'Thu, 28 Jan 2021 22:39:58 +0000', 'Sun, 15 Nov 2020 11:30:53 +0000', 'Sat, 30 Jan 2021 09:21:44 +0000', 'Tue, 2 Feb 2021 08:36:58 +0000', 'Sun, 7 Feb 2021 08:50:34 +0000', 'Tue, 3 Nov 2020 16:13:54 +0000'], 'mail.noteweb.site@gmail.com': ['Mon, 02 Mar 2020 14:54:22 +0000', 'Mon, 02 Mar 2020 14:53:20 +0000', 'Mon, 02 Mar 2020 14:52:08 +0000', 'Mon, 02 Mar 2020 14:00:32 +0000', 'Mon, 02 Mar 2020 14:44:33 +0000', 'Mon, 02 Mar 2020 14:43:50 +0000', 'Mon, 02 Mar 2020 13:58:59 +0000'], 'googlecommunityteam-noreply@google.com': ['Sun, 01 Mar 2020 19:48:27 -0800'], 'no-reply@accounts.google.com': ['Mon, 2 Mar 2020 13:54:52 +0000 (GMT)', 'Wed, 4 Mar 2020 13:39:21 +0000 (GMT)', 'Wed, 4 Mar 2020 13:29:15 +0000 (GMT)', 'Wed, 4 Mar 2020 11:34:25 +0000 (GMT)', 'Tue, 01 Sep 2020 01:43:18 GMT', 'Mon, 21 Sep 2020 17:42:55 GMT', 'Mon, 21 Sep 2020 17:42:40 GMT'], 'noreply@google.com': ['Sun, 06 Dec 2020 23:55:16 -0800'], 'payments-noreply@google.com': ['Tue, 29 Dec 2020 02:20:34 -0800', 'Tue, 01 Dec 2020 23:06:17 -0800', 'Sun, 01 Nov 2020 10:21:40 -0800', 'Thu, 01 Oct 2020 11:53:34 -0700']}}\n"
     ]
    }
   ],
   "source": [
    "stats = analyze('email1.mbox',{\"myEmail\":os.getenv('MY_EMAIL')})\n",
    "print(stats)"
   ]
  },
  {
   "cell_type": "code",
   "execution_count": 15,
   "metadata": {},
   "outputs": [
    {
     "data": {
      "image/png": "[encoded data removed]",
      "text/plain": [
       "<matplotlib.figure.Figure at 0x10ed15240>"
      ]
     },
     "metadata": {},
     "output_type": "display_data"
    }
   ],
   "source": [
    "labels = 'Sent', 'Recieved'\n",
    "sizes = [stats[\"total\"][\"sent\"], stats[\"total\"][\"recieved\"]]\n",
    "\n",
    "fig1, ax1 = plt.subplots()\n",
    "ax1.pie(sizes, labels=labels, autopct='%1.1f%%',\n",
    "        shadow=True, startangle=90)\n",
    "ax1.axis('equal')\n",
    "plt.show()"
   ]
  },
  {
   "cell_type": "code",
   "execution_count": null,
   "metadata": {},
   "outputs": [],
   "source": []
  }
 ],
 "metadata": {
  "kernelspec": {
   "display_name": "Python 3",
   "language": "python",
   "name": "python3"
  },
  "language_info": {
   "codemirror_mode": {
    "name": "ipython",
    "version": 3
   },
   "file_extension": ".py",
   "mimetype": "text/x-python",
   "name": "python",
   "nbconvert_exporter": "python",
   "pygments_lexer": "ipython3",
   "version": "3.6.4"
  }
 },
 "nbformat": 4,
 "nbformat_minor": 2
}
